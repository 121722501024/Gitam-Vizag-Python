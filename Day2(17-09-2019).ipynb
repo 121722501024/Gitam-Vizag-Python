{
 "cells": [
  {
   "cell_type": "markdown",
   "metadata": {},
   "source": [
    "### Control Statements:\n",
    "- Conditional Statements or Selection Statements\n",
    "  - if-else\n",
    "- Iterating Statements or loop Statements\n",
    "  - while\n",
    "  - for"
   ]
  },
  {
   "cell_type": "code",
   "execution_count": 4,
   "metadata": {},
   "outputs": [
    {
     "name": "stdout",
     "output_type": "stream",
     "text": [
      "Enter the year2020\n",
      "Leap year\n"
     ]
    }
   ],
   "source": [
    "# check the input is Leapyear or not\n",
    "year = int(input('Enter the year'))\n",
    "if year % 400 == 0 or (year % 100 != 0 and year % 4 == 0 ):\n",
    "    print('Leap year')\n",
    "else:\n",
    "    print('Not leap year')"
   ]
  },
  {
   "cell_type": "markdown",
   "metadata": {},
   "source": [
    "### while loop"
   ]
  },
  {
   "cell_type": "code",
   "execution_count": 10,
   "metadata": {},
   "outputs": [
    {
     "name": "stdout",
     "output_type": "stream",
     "text": [
      "Enter a Number:24\n",
      "1 2 3 4 5 6 7 8 9 10 11 12 13 14 15 16 17 18 19 20 21 22 23 24 "
     ]
    }
   ],
   "source": [
    "# Print numbers from 1 to N\n",
    "#input=10\n",
    "#output:1,2,3.......10\n",
    "n = int(input('Enter a Number:'))\n",
    "i =1 \n",
    "while i <= n:\n",
    "    print(i,end= \" \")\n",
    "    i = i+1"
   ]
  },
  {
   "cell_type": "code",
   "execution_count": 1,
   "metadata": {},
   "outputs": [
    {
     "name": "stdout",
     "output_type": "stream",
     "text": [
      "Enter a Number:10\n",
      "30\n"
     ]
    }
   ],
   "source": [
    "# Read a number as a input \n",
    "# Output as Only even Numbers from 1 to 10\n",
    "\n",
    "#input=10\n",
    "#output=30 (2+4+6+8+10)\n",
    "\n",
    "m = int(input('Enter a Number:'))\n",
    "i=1\n",
    "s=0\n",
    "while i <= m:\n",
    "    if i%2 == 0:\n",
    "        s = s + i\n",
    "    i = i + 1\n",
    "print(s)    "
   ]
  },
  {
   "cell_type": "code",
   "execution_count": 2,
   "metadata": {},
   "outputs": [
    {
     "name": "stdout",
     "output_type": "stream",
     "text": [
      "Enter a number:123\n",
      "3 2 1 "
     ]
    }
   ],
   "source": [
    "# Read a number as Input\n",
    "# Output has to be Digits of the number\n",
    "\n",
    "# Input : 123\n",
    "#Output : 321\n",
    "n = int(input('Enter a number:'))\n",
    "while n !=0:\n",
    "    print(n%10,end=' ')\n",
    "    n = n // 10 # returns the output as only int value"
   ]
  },
  {
   "cell_type": "markdown",
   "metadata": {},
   "source": [
    "### Functional Programming:\n",
    "- Simple\n",
    "- Easy to Understand\n",
    "- Better Reusability\n",
    "- Lenghty Program will be divided into Sub Programs"
   ]
  },
  {
   "cell_type": "code",
   "execution_count": null,
   "metadata": {},
   "outputs": [],
   "source": [
    "#Syntax:\n",
    "def nameoftheFunction(<parameters>):\n",
    "    Statements\n",
    "    return"
   ]
  },
  {
   "cell_type": "code",
   "execution_count": 1,
   "metadata": {},
   "outputs": [
    {
     "data": {
      "text/plain": [
       "6"
      ]
     },
     "execution_count": 1,
     "metadata": {},
     "output_type": "execute_result"
    }
   ],
   "source": [
    "# Read a Number as a Input\n",
    "# Print the Even Digit sum from the Number\n",
    "\n",
    "#Input : 1234\n",
    "#output : 6(2+4)\n",
    "def evenDigitSum(n):\n",
    "    s = 0\n",
    "    while n!=0:\n",
    "        r = n % 10\n",
    "        if r % 2 == 0:\n",
    "            s = s + r\n",
    "        n = n // 10\n",
    "    return s\n",
    "evenDigitSum(1234)"
   ]
  },
  {
   "cell_type": "code",
   "execution_count": 6,
   "metadata": {},
   "outputs": [
    {
     "data": {
      "text/plain": [
       "9"
      ]
     },
     "execution_count": 6,
     "metadata": {},
     "output_type": "execute_result"
    }
   ],
   "source": [
    "# Input : 19535\n",
    "#Output : 9 (Large digit of the given Number)\n",
    "def largeDigit(n):\n",
    "    l = 0\n",
    "    while n != 0:\n",
    "        r = n % 10\n",
    "        if r >= l:\n",
    "            l=r\n",
    "        n = n // 10\n",
    "    return l\n",
    "largeDigit(19535)"
   ]
  },
  {
   "cell_type": "code",
   "execution_count": 2,
   "metadata": {},
   "outputs": [
    {
     "name": "stdout",
     "output_type": "stream",
     "text": [
      "Yes\n",
      "No\n"
     ]
    }
   ],
   "source": [
    "# Read a number as input\n",
    "#Output Yes or No\n",
    "\n",
    "#Input : 145\n",
    "#Output : Yes\n",
    "\n",
    "#Input : 123\n",
    "#Output : No\n",
    "# Individual Digit Factorial Sum is same as input Number\n",
    " # 145-- 5 4 1\n",
    " # 5!--120\n",
    " # 4!--24\n",
    " # 1!--1\n",
    "\n",
    "def factorial(n):\n",
    "    fact = 1\n",
    "    i = 1\n",
    "    while i <= n:\n",
    "        fact = fact * i ### find the fact of the number\n",
    "        i = i + 1\n",
    "    return fact\n",
    "\n",
    "def digitFactSum(n):\n",
    "    s=0\n",
    "    buffer = n ##store the input value in buffer because n will be zero after the while loop\n",
    "    while n != 0:\n",
    "        r = n % 10\n",
    "        s += factorial(r)\n",
    "        n = n // 10\n",
    "    if buffer == s:\n",
    "        return \"Yes\"##### Compares s with Buffer\n",
    "    else:\n",
    "        return \"No\"\n",
    "    return \n",
    "\n",
    "print(digitFactSum(145))#Yes\n",
    "print(digitFactSum(123))#No"
   ]
  },
  {
   "cell_type": "code",
   "execution_count": 6,
   "metadata": {},
   "outputs": [
    {
     "name": "stdout",
     "output_type": "stream",
     "text": [
      "Palindrome\n",
      "Not a Palindrome\n"
     ]
    }
   ],
   "source": [
    "# Read a number as input\n",
    "#Output as Palindrome or Not a Palindrome\n",
    "#Plaindrome--A Number after reversing is same as the original Number\n",
    "\n",
    "#Input : 123\n",
    "#Output : Palindrome\n",
    "\n",
    "#Input : 1213\n",
    "#Output : Not a Palindrome\n",
    "\n",
    "def isPalindrome(n):\n",
    "    rev=0\n",
    "    buffer = n\n",
    "    while n!=0:\n",
    "        m = n % 10\n",
    "        rev = rev *10 + m\n",
    "        n = n // 10\n",
    "    if buffer == rev:\n",
    "        return \"Palindrome\"\n",
    "    return \"Not a Palindrome\"\n",
    "print(isPalindrome(121))#Palindrome\n",
    "print(isPalindrome(123))#Not a palindrome"
   ]
  },
  {
   "cell_type": "code",
   "execution_count": 8,
   "metadata": {},
   "outputs": [
    {
     "name": "stdout",
     "output_type": "stream",
     "text": [
      "11 12 13 14 15 16 17 18 19 20 21 22 23 24 "
     ]
    }
   ],
   "source": [
    "#Function to Print the Numbers between two limits using for loop\n",
    "#Input : 11 25\n",
    "#output : 11 12 13..........25\n",
    "def printSeries(lb,up):\n",
    "    for x in range(lb,up):\n",
    "        print(x,end=' ')\n",
    "    return\n",
    "printSeries(11,25)"
   ]
  },
  {
   "cell_type": "code",
   "execution_count": 13,
   "metadata": {},
   "outputs": [
    {
     "name": "stdout",
     "output_type": "stream",
     "text": [
      "500 502 504 506 508 510 512 514 516 518 520 "
     ]
    }
   ],
   "source": [
    "#Function to print the alternate numbers\n",
    "#[500,520]--500 502 504......520\n",
    "#[100,140]--100 104 108 112 116....140\n",
    "def alternateNumbers(lb,ub):\n",
    "    for x in range(lb,ub+1,2):\n",
    "        print(x,end=' ')\n",
    "    return\n",
    "alternateNumbers(500,520)"
   ]
  },
  {
   "cell_type": "code",
   "execution_count": 15,
   "metadata": {},
   "outputs": [
    {
     "name": "stdout",
     "output_type": "stream",
     "text": [
      "145\n",
      "9\n"
     ]
    }
   ],
   "source": [
    "def factorialSum(n):\n",
    "    s=0\n",
    "    while n!=0:\n",
    "        fc=1\n",
    "        m = n%10\n",
    "        while m >=1:\n",
    "            fc=fc*m\n",
    "            m=m-1\n",
    "        s=s+fc\n",
    "        n=n // 10\n",
    "    print(s)\n",
    "    return\n",
    "factorialSum(145)\n",
    "factorialSum(123)"
   ]
  },
  {
   "cell_type": "code",
   "execution_count": null,
   "metadata": {},
   "outputs": [],
   "source": []
  }
 ],
 "metadata": {
  "kernelspec": {
   "display_name": "Python 3",
   "language": "python",
   "name": "python3"
  },
  "language_info": {
   "codemirror_mode": {
    "name": "ipython",
    "version": 3
   },
   "file_extension": ".py",
   "mimetype": "text/x-python",
   "name": "python",
   "nbconvert_exporter": "python",
   "pygments_lexer": "ipython3",
   "version": "3.7.3"
  }
 },
 "nbformat": 4,
 "nbformat_minor": 2
}
