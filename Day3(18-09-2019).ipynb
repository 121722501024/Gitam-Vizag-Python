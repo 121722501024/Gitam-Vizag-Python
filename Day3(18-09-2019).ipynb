{
 "cells": [
  {
   "cell_type": "markdown",
   "metadata": {},
   "source": [
    "### Programming in Python with Strings\n",
    "- Strings\n",
    "- String slicing\n",
    "- Fundamental Programs and Examples with Strings"
   ]
  },
  {
   "cell_type": "code",
   "execution_count": 122,
   "metadata": {},
   "outputs": [
    {
     "name": "stdout",
     "output_type": "stream",
     "text": [
      "Python\n",
      "Programming\n",
      "A\n",
      "<class 'str'>\n",
      "<class 'str'>\n",
      "<class 'str'>\n"
     ]
    }
   ],
   "source": [
    "s1 = 'Python'\n",
    "s2 = \"Programming\"\n",
    "s3 = 'A'\n",
    "print(s1)\n",
    "print(s2)\n",
    "print(s3)\n",
    "print(type(s1))\n",
    "print(type(s2))\n",
    "print(type(s3))"
   ]
  },
  {
   "cell_type": "code",
   "execution_count": 123,
   "metadata": {},
   "outputs": [
    {
     "data": {
      "text/plain": [
       "'y'"
      ]
     },
     "execution_count": 123,
     "metadata": {},
     "output_type": "execute_result"
    }
   ],
   "source": [
    "s1 = \"Python\"\n",
    "s1[0] #Accessing the first character in a string\n",
    "s1[1]"
   ]
  },
  {
   "cell_type": "code",
   "execution_count": 124,
   "metadata": {},
   "outputs": [
    {
     "name": "stdout",
     "output_type": "stream",
     "text": [
      "P\n",
      "y\n"
     ]
    }
   ],
   "source": [
    "s1 = \"Python\"\n",
    "print(s1[0]) #Accessing the first character in a string\n",
    "print(s1[1])"
   ]
  },
  {
   "cell_type": "code",
   "execution_count": 125,
   "metadata": {},
   "outputs": [
    {
     "name": "stdout",
     "output_type": "stream",
     "text": [
      "P\n",
      "y\n",
      "6\n",
      "n\n",
      "n\n",
      "o\n"
     ]
    }
   ],
   "source": [
    "s1 = \"Python\"\n",
    "print(s1[0]) #Accessing the first character in a string\n",
    "print(s1[1]) #Accessing the character in a string\n",
    "print(len(s1)) #Len of the string\n",
    "print(s1[len(s1)-1]) #accessing last character in a string\n",
    "print(s1[-1]) #Another way to access the last character\n",
    "print(s1[-2]) "
   ]
  },
  {
   "cell_type": "code",
   "execution_count": 126,
   "metadata": {},
   "outputs": [
    {
     "data": {
      "text/plain": [
       "'Py'"
      ]
     },
     "execution_count": 126,
     "metadata": {},
     "output_type": "execute_result"
    }
   ],
   "source": [
    "s1[0:2]"
   ]
  },
  {
   "cell_type": "code",
   "execution_count": 127,
   "metadata": {},
   "outputs": [
    {
     "name": "stdout",
     "output_type": "stream",
     "text": [
      "Py\n",
      "on\n",
      "hon\n",
      "tho\n",
      "yP\n",
      "ytho\n"
     ]
    }
   ],
   "source": [
    "print(s1[0:2]) #Access the first two characters\n",
    "print(s1[-2:]) #Access the last two characters\n",
    "print(s1[3:])  #Access the character from 3 till last \n",
    "print(s1[2:5]) #Access the character from 2 to 5\n",
    "print(s1[1::-1]) \n",
    "print(s1[1:-1]) #All the characters except first and last characters"
   ]
  },
  {
   "cell_type": "code",
   "execution_count": 128,
   "metadata": {},
   "outputs": [
    {
     "data": {
      "text/plain": [
       "'nohtyP'"
      ]
     },
     "execution_count": 128,
     "metadata": {},
     "output_type": "execute_result"
    }
   ],
   "source": [
    "s1[-1::-1] #Reverse the string"
   ]
  },
  {
   "cell_type": "code",
   "execution_count": 129,
   "metadata": {},
   "outputs": [
    {
     "data": {
      "text/plain": [
       "'Pto'"
      ]
     },
     "execution_count": 129,
     "metadata": {},
     "output_type": "execute_result"
    }
   ],
   "source": [
    "#Access the characters in a string alternate\n",
    "# Python-----Pto\n",
    "s1[::2]"
   ]
  },
  {
   "cell_type": "code",
   "execution_count": 130,
   "metadata": {},
   "outputs": [
    {
     "data": {
      "text/plain": [
       "'nhy'"
      ]
     },
     "execution_count": 130,
     "metadata": {},
     "output_type": "execute_result"
    }
   ],
   "source": [
    "#Access the characters from reverse direction\n",
    "s1[::-2]"
   ]
  },
  {
   "cell_type": "markdown",
   "metadata": {},
   "source": [
    "### Functions with String Operations"
   ]
  },
  {
   "cell_type": "code",
   "execution_count": 131,
   "metadata": {},
   "outputs": [
    {
     "data": {
      "text/plain": [
       "'nohtyP'"
      ]
     },
     "execution_count": 131,
     "metadata": {},
     "output_type": "execute_result"
    }
   ],
   "source": [
    "#Reverse the string\n",
    "def reverseStr(s):\n",
    "    return s[-1::-1]\n",
    "reverseStr('Python')"
   ]
  },
  {
   "cell_type": "code",
   "execution_count": 132,
   "metadata": {},
   "outputs": [
    {
     "data": {
      "text/plain": [
       "False"
      ]
     },
     "execution_count": 132,
     "metadata": {},
     "output_type": "execute_result"
    }
   ],
   "source": [
    "# To check the given string is Palindrome or not a Palindrome\n",
    "def isPalindrome(s):\n",
    "    if s==s[-1::-1]:\n",
    "        return True\n",
    "    return False\n",
    "isPalindrome('Python')"
   ]
  },
  {
   "cell_type": "code",
   "execution_count": 133,
   "metadata": {},
   "outputs": [
    {
     "name": "stdout",
     "output_type": "stream",
     "text": [
      "False\n",
      "True\n"
     ]
    }
   ],
   "source": [
    "# To check the given string is Palindrome or not a Palindrome\n",
    "def isPalindrome(s):\n",
    "    if s==s[-1::-1]:\n",
    "        return True\n",
    "    return False\n",
    "print(isPalindrome('Python'))\n",
    "print(isPalindrome('mom'))"
   ]
  },
  {
   "cell_type": "code",
   "execution_count": 134,
   "metadata": {},
   "outputs": [
    {
     "ename": "TypeError",
     "evalue": "'>=' not supported between instances of 'str' and 'int'",
     "output_type": "error",
     "traceback": [
      "\u001b[1;31m---------------------------------------------------------------------------\u001b[0m",
      "\u001b[1;31mTypeError\u001b[0m                                 Traceback (most recent call last)",
      "\u001b[1;32m<ipython-input-134-7cbe8485dd44>\u001b[0m in \u001b[0;36m<module>\u001b[1;34m\u001b[0m\n\u001b[0;32m     12\u001b[0m             \u001b[0mprint\u001b[0m\u001b[1;33m(\u001b[0m\u001b[0ms\u001b[0m\u001b[1;33m[\u001b[0m\u001b[0mi\u001b[0m\u001b[1;33m]\u001b[0m\u001b[1;33m,\u001b[0m\u001b[0mend\u001b[0m\u001b[1;33m=\u001b[0m\u001b[1;34m' '\u001b[0m\u001b[1;33m)\u001b[0m\u001b[1;33m\u001b[0m\u001b[1;33m\u001b[0m\u001b[0m\n\u001b[0;32m     13\u001b[0m     \u001b[1;32mreturn\u001b[0m\u001b[1;33m\u001b[0m\u001b[1;33m\u001b[0m\u001b[0m\n\u001b[1;32m---> 14\u001b[1;33m \u001b[0mprintUpper\u001b[0m\u001b[1;33m(\u001b[0m\u001b[1;34m'PyThon'\u001b[0m\u001b[1;33m)\u001b[0m \u001b[1;31m# P T\u001b[0m\u001b[1;33m\u001b[0m\u001b[1;33m\u001b[0m\u001b[0m\n\u001b[0m",
      "\u001b[1;32m<ipython-input-134-7cbe8485dd44>\u001b[0m in \u001b[0;36mprintUpper\u001b[1;34m(s)\u001b[0m\n\u001b[0;32m      9\u001b[0m \u001b[1;32mdef\u001b[0m \u001b[0mprintUpper\u001b[0m\u001b[1;33m(\u001b[0m\u001b[0ms\u001b[0m\u001b[1;33m)\u001b[0m\u001b[1;33m:\u001b[0m\u001b[1;33m\u001b[0m\u001b[1;33m\u001b[0m\u001b[0m\n\u001b[0;32m     10\u001b[0m     \u001b[1;32mfor\u001b[0m \u001b[0mi\u001b[0m \u001b[1;32min\u001b[0m \u001b[0mrange\u001b[0m\u001b[1;33m(\u001b[0m\u001b[0mlen\u001b[0m\u001b[1;33m(\u001b[0m\u001b[0ms\u001b[0m\u001b[1;33m)\u001b[0m\u001b[1;33m)\u001b[0m\u001b[1;33m:\u001b[0m\u001b[1;33m\u001b[0m\u001b[1;33m\u001b[0m\u001b[0m\n\u001b[1;32m---> 11\u001b[1;33m         \u001b[1;32mif\u001b[0m \u001b[0ms\u001b[0m\u001b[1;33m[\u001b[0m\u001b[0mi\u001b[0m\u001b[1;33m]\u001b[0m \u001b[1;33m>=\u001b[0m \u001b[1;36m65\u001b[0m \u001b[1;32mand\u001b[0m \u001b[0ms\u001b[0m\u001b[1;33m[\u001b[0m\u001b[0mi\u001b[0m\u001b[1;33m]\u001b[0m \u001b[1;33m<=\u001b[0m \u001b[1;36m90\u001b[0m\u001b[1;33m:\u001b[0m \u001b[1;31m# Replace s[i] with ord(s[i])\u001b[0m\u001b[1;33m\u001b[0m\u001b[1;33m\u001b[0m\u001b[0m\n\u001b[0m\u001b[0;32m     12\u001b[0m             \u001b[0mprint\u001b[0m\u001b[1;33m(\u001b[0m\u001b[0ms\u001b[0m\u001b[1;33m[\u001b[0m\u001b[0mi\u001b[0m\u001b[1;33m]\u001b[0m\u001b[1;33m,\u001b[0m\u001b[0mend\u001b[0m\u001b[1;33m=\u001b[0m\u001b[1;34m' '\u001b[0m\u001b[1;33m)\u001b[0m\u001b[1;33m\u001b[0m\u001b[1;33m\u001b[0m\u001b[0m\n\u001b[0;32m     13\u001b[0m     \u001b[1;32mreturn\u001b[0m\u001b[1;33m\u001b[0m\u001b[1;33m\u001b[0m\u001b[0m\n",
      "\u001b[1;31mTypeError\u001b[0m: '>=' not supported between instances of 'str' and 'int'"
     ]
    }
   ],
   "source": [
    "# Function to print upper case characters\n",
    "# Example : PyThon---P T\n",
    "\n",
    "# ASCII NUMBER STSTEM\n",
    "# A -Z : 65 - 90\n",
    "# a - z : 97 - 122\n",
    "# 0 - 9 : 48 - 57\n",
    "# space : 32\n",
    "def printUpper(s):\n",
    "    for i in range(len(s)):\n",
    "        if s[i] >= 65 and s[i] <= 90: # Replace s[i] with ord(s[i])\n",
    "            print(s[i],end=' ')\n",
    "    return\n",
    "printUpper('PyThon') # P T"
   ]
  },
  {
   "cell_type": "code",
   "execution_count": null,
   "metadata": {},
   "outputs": [],
   "source": [
    "ord('a')"
   ]
  },
  {
   "cell_type": "code",
   "execution_count": null,
   "metadata": {},
   "outputs": [],
   "source": [
    "ord('A')"
   ]
  },
  {
   "cell_type": "code",
   "execution_count": null,
   "metadata": {},
   "outputs": [],
   "source": [
    "# Function to print upper case characters\n",
    "# Example : PyThon---P T\n",
    "\n",
    "# ASCII NUMBER STSTEM\n",
    "# A -Z : 65 - 90\n",
    "# a - z : 97 - 122\n",
    "# 0 - 9 : 48 - 57\n",
    "# space : 32\n",
    "def printUpper(s):\n",
    "    for i in range(len(s)):\n",
    "        if ord(s[i]) >= 65 and ord(s[i]) <= 90:\n",
    "            print(s[i],end=' ')\n",
    "    return\n",
    "printUpper('PyThon') # P T"
   ]
  },
  {
   "cell_type": "code",
   "execution_count": null,
   "metadata": {},
   "outputs": [],
   "source": [
    "s1 = \"Python\"\n",
    "print(s1[-1::-1])\n",
    "# start:end:step\n",
    "#Start:end"
   ]
  },
  {
   "cell_type": "code",
   "execution_count": null,
   "metadata": {},
   "outputs": [],
   "source": [
    "# Function to return the output as \"Samecount\" or \"Programming\"\n",
    "# Samecount --lower and upper case characters have same count\n",
    "# Programming -- Count of lower and upper case is not same\n",
    "\n",
    "#Example #1 : PyThOn---3 P T O\n",
    "#                   ---3 y h n\n",
    "\n",
    "# Example #2 : PythoN---2 P N\n",
    "#                    ---4 y t h o\n",
    "\n",
    "#Output : Programming\n",
    "\n",
    "def findCharCount(s):\n",
    "    cntUpper=0\n",
    "    cntLower=0\n",
    "    for i in range(len(s)):\n",
    "        if ord(s[i]) >= 65 and ord(s[i]) <= 90:\n",
    "            cntUpper = cntUpper+1\n",
    "        if ord(s[i]) >= 97 and ord(s[i]) <= 122:\n",
    "            cntLower +=1\n",
    "    if cntUpper==cntLower:\n",
    "        print(\"SameCount\")\n",
    "    else:\n",
    "        print(\"Programming\")\n",
    "    return\n",
    "findCharCount('PyThOn')\n",
    "findCharCount('PraThyu')"
   ]
  },
  {
   "cell_type": "code",
   "execution_count": null,
   "metadata": {},
   "outputs": [],
   "source": [
    "# Function to extarct the digits  from the string\n",
    "#Example#1 : \n",
    "#Input : Appli18cation89\n",
    "#Output : 1 8 8 9\n",
    "def extractDigits(s):\n",
    "    for i in range(len(s)):\n",
    "        if ord(s[i]) >= 48 and ord(s[i]) <= 57:\n",
    "             print(s[i],end=' ')\n",
    "    return\n",
    "extractDigits(\"Appli18cation89\")\n"
   ]
  },
  {
   "cell_type": "code",
   "execution_count": null,
   "metadata": {},
   "outputs": [],
   "source": [
    "# Function to add the digits of the string\n",
    "# Example : #1\n",
    "# Input : Appli18cation89\n",
    "# Output : 26 (1+8+8+9)\n",
    "def addDigits(s):\n",
    "    sum = 0\n",
    "    for i in range(len(s)):\n",
    "        if ord(s[i]) >= 48 and ord(s[i]) <= 57:\n",
    "            sum = sum + (ord(s[i])-48)\n",
    "    return sum\n",
    "addDigits(\"Appli18cation89\")"
   ]
  },
  {
   "cell_type": "code",
   "execution_count": null,
   "metadata": {},
   "outputs": [],
   "source": [
    "def addDigits(s):\n",
    "    sum = 0\n",
    "    for i in range(len(s)):\n",
    "        if ord(s[i]) >= 48 and ord(s[i]) <= 57:\n",
    "            sum = sum+int(s[i])\n",
    "    return sum\n",
    "addDigits(\"Appli18cation89\")"
   ]
  },
  {
   "cell_type": "code",
   "execution_count": null,
   "metadata": {},
   "outputs": [],
   "source": [
    "# Function to print 2nd word in Upper case\n",
    "# Example #1: \n",
    "#Input : Python Made Easy\n",
    "#Output : MADE\n",
    "\n",
    "#Example #2: \n",
    "#Input : Learn Python Strings\n",
    "#output : PYTHON\n",
    "def specificWords(s):\n",
    "    countSpace = 0\n",
    "    for i in range(len(s)):\n",
    "        if ord(s[i]) ==32:\n",
    "            countSpace += 1\n",
    "        if countSpace == 1:\n",
    "            if ord(s[i]) >= 65 and ord(s[i]) <= 90:\n",
    "                print(s[i],end='')\n",
    "            elif ord(s[i]) >= 97 and ord(s[i]) <= 122:\n",
    "                print(chr(ord(s[i])-32),end='')\n",
    "        if countSpace == 2:\n",
    "            break\n",
    "    print()\n",
    "    return\n",
    "specificWords('Python made Easy')\n",
    "specificWords('Learn Python strings')"
   ]
  },
  {
   "cell_type": "code",
   "execution_count": null,
   "metadata": {},
   "outputs": [],
   "source": [
    "str1 = \"python made easy\"\n",
    "list1 = str1.split()\n",
    "list1[1].upper()\n"
   ]
  },
  {
   "cell_type": "markdown",
   "metadata": {},
   "source": [
    "### List\n",
    "- One of the data structure in Python\n",
    "- Its's one Common data Structure in Python, the items of List Seprated by comma and\n",
    "  enclosed in square brackets[]\n",
    "  - Example\n",
    "     - list1=[1,2,3,4,5]\n",
    "     - list2=[\"Gitam\",1,2,1.89,\"Vizag\"]"
   ]
  },
  {
   "cell_type": "code",
   "execution_count": null,
   "metadata": {},
   "outputs": [],
   "source": [
    "li = [1,8,16,9,2]\n",
    "print(li) # will print all the list items\n",
    "print(li[0]) # Access the first item of the list\n",
    "print(li[1]) # Access the second item of the list\n",
    "print(li[-1]) # Access the last item of the list\n",
    "print(li[-2]) # Access the last seond item of the list\n",
    "print(li[2:])"
   ]
  },
  {
   "cell_type": "code",
   "execution_count": null,
   "metadata": {},
   "outputs": [],
   "source": [
    "li = [\"Gitam\",12,123,156,\"Viazg\"]\n",
    "print(li)\n",
    "#Update the list item with value using Index\n",
    "li[1] = 1234\n",
    "print(li)"
   ]
  },
  {
   "cell_type": "code",
   "execution_count": null,
   "metadata": {},
   "outputs": [],
   "source": [
    "# Delete the list items from the list\n",
    "del li[3]\n",
    "print(li)"
   ]
  },
  {
   "cell_type": "code",
   "execution_count": null,
   "metadata": {},
   "outputs": [],
   "source": [
    "#Basic list operations\n",
    "li=[1,2,3,4,5]\n",
    "#Len of the list\n",
    "print(len(li))\n",
    "#list Repetition\n",
    "print(li * 2)\n",
    "#To know creation item is present in the list or not\n",
    "print(4 in li)\n",
    "print(10 in li)\n",
    "#To know creation items from the Iterations\n",
    "# 1 way to define\n",
    "for i in range(len(li)):\n",
    "    print(li[i],end=' ')\n",
    "print()\n",
    "# 2 awy to print the list items\n",
    "for i in li:\n",
    "    print(i,end=' ')"
   ]
  },
  {
   "cell_type": "code",
   "execution_count": null,
   "metadata": {},
   "outputs": [],
   "source": [
    "# Basic list Functions\n",
    "li=[1,9,16,25,5]\n",
    "print(max(li)) # max number of list\n",
    "print(min(li)) # min number of list\n",
    "print(sum(li)) # sum of all list items\n",
    "print(sum(li)//len(li)) #Avg of list items"
   ]
  },
  {
   "cell_type": "code",
   "execution_count": null,
   "metadata": {},
   "outputs": [],
   "source": [
    "# Methods of List\n",
    "li=[1,9,16,25,5]\n",
    "li.append(29) # New item at the end of the list\n",
    "print(li)\n",
    "li.insert(2,56) # Add the new item at the specific index\n",
    "print(li)\n",
    "li.append(9) # returns the value how many times repeated\n",
    "print(li)\n",
    "li.count(9)"
   ]
  },
  {
   "cell_type": "code",
   "execution_count": null,
   "metadata": {},
   "outputs": [],
   "source": [
    "# Methods of list object\n",
    "li.sort() # Sorts the list in ascending order\n",
    "li.pop() # last index value\n",
    "li.pop(1) # Removes the items from the specified index\n",
    "li"
   ]
  },
  {
   "cell_type": "code",
   "execution_count": null,
   "metadata": {},
   "outputs": [],
   "source": [
    "li1=[1,6,19,25]\n",
    "li2=[6,56,8,19]\n",
    "li2.extend(li1)\n",
    "print(li2)\n",
    "li1.reverse()\n",
    "li1.sort()\n",
    "print(li1)"
   ]
  },
  {
   "cell_type": "code",
   "execution_count": null,
   "metadata": {},
   "outputs": [],
   "source": [
    "# Function to return the large number from the list\n",
    "def largeNumber(li):\n",
    "    li.sort()\n",
    "    return li[-1]\n",
    "def genericLarge(li,n):\n",
    "    li.sort()\n",
    "    return li[-n]\n",
    "li = [19,1,25,6,9,45,22]\n",
    "print(largeNumber(li))\n",
    "print(genericLarge(li,3))"
   ]
  },
  {
   "cell_type": "code",
   "execution_count": null,
   "metadata": {},
   "outputs": [],
   "source": [
    "#Function to find the Generic Least number from the list\n",
    "li=[2,5,6,8,9]\n",
    "def leastNumber(li):\n",
    "    li.sort()\n",
    "    return li[0]\n",
    "def genericLeastNumber(li,n):\n",
    "    li.sort()\n",
    "    return li[n-1]\n",
    "print(leastNumber(li))\n",
    "print(genericLeastNumber(li,4))"
   ]
  },
  {
   "cell_type": "code",
   "execution_count": null,
   "metadata": {},
   "outputs": [],
   "source": [
    "def leastNumber(li):\n",
    "    li.sort()\n",
    "    return li[0]\n",
    "def genericLeastNumber(li,n):\n",
    "    li.sort()\n",
    "    return li[n-1]\n",
    "li=[2,5,6,8,9]\n",
    "print(leastNumber(li))\n",
    "print(genericLeastNumber(li,4))"
   ]
  },
  {
   "cell_type": "markdown",
   "metadata": {},
   "source": [
    "### FileHandling in Python\n",
    "- File - Document which contains some information and resides on permanent devices\n",
    "- Different types of File--.txt,.pdf,.doc,.ppf and etc\n",
    "- Input -- Keyboard\n",
    "- Output-- File System"
   ]
  },
  {
   "cell_type": "code",
   "execution_count": 163,
   "metadata": {},
   "outputs": [
    {
     "name": "stdout",
     "output_type": "stream",
     "text": [
      "File is Successfully created and Data has inserted\n"
     ]
    }
   ],
   "source": [
    "#Function to Create a file  and write some data to the file\n",
    "# Mode -- w(It creates the file and write to the same data)\n",
    "#          If the file already exists with same name then it will rewrite the data\n",
    "def createFile(prathyu):\n",
    "    f = open(prathyu,'w')\n",
    "    for i in range(10):\n",
    "        f.write('This is %d Line \\n' % i)\n",
    "    print('File is Successfully created and Data has inserted')\n",
    "    return\n",
    "createFile('data.txt')"
   ]
  },
  {
   "cell_type": "code",
   "execution_count": null,
   "metadata": {},
   "outputs": [],
   "source": [
    "pwd"
   ]
  },
  {
   "cell_type": "code",
   "execution_count": 164,
   "metadata": {},
   "outputs": [
    {
     "name": "stdout",
     "output_type": "stream",
     "text": [
      "Completed successfully\n"
     ]
    }
   ],
   "source": [
    "def createFile(prathyu):\n",
    "    f = open(prathyu,'w')\n",
    "    f.write('Gitam Vizag Python Training')\n",
    "    print('Completed successfully')\n",
    "    return\n",
    "createFile('data.txt') "
   ]
  },
  {
   "cell_type": "code",
   "execution_count": 165,
   "metadata": {},
   "outputs": [
    {
     "name": "stdout",
     "output_type": "stream",
     "text": [
      "Program Completed successfully\n"
     ]
    }
   ],
   "source": [
    "# Mode--- a(If the file is not available it creates the file)\n",
    "#     --- If the file is already present with same name\n",
    "#   ---append the data at the end of the previous line\n",
    "def appendMode(prathyu):\n",
    "    f = open(prathyu,'a')\n",
    "    f.write('\\n Gitam Vizag\\n')\n",
    "    f.write('Python Programming\\n')\n",
    "    print('Program Completed successfully')\n",
    "    return\n",
    "appendMode('data.txt')  "
   ]
  },
  {
   "cell_type": "code",
   "execution_count": 167,
   "metadata": {},
   "outputs": [
    {
     "name": "stdout",
     "output_type": "stream",
     "text": [
      "Gitam Vizag Python Training\n",
      " Gitam Vizag\n",
      "Python Programming\n",
      "\n"
     ]
    }
   ],
   "source": [
    "#Function to read the file\n",
    "def readFileData(prathyu):\n",
    "    f = open(prathyu,'r')\n",
    "    if f.mode == 'r':\n",
    "        a = f.read()\n",
    "        print(a)\n",
    "    f.close()\n",
    "    return\n",
    "readFileData('data.txt')"
   ]
  },
  {
   "cell_type": "code",
   "execution_count": null,
   "metadata": {},
   "outputs": [],
   "source": [
    "#Analysis on the file---word Count, char count,  Digit count\n",
    "s1 = \"Py th on Pro gram ming\"\n",
    "print(s1.split())"
   ]
  },
  {
   "cell_type": "code",
   "execution_count": 168,
   "metadata": {},
   "outputs": [
    {
     "data": {
      "text/plain": [
       "8"
      ]
     },
     "execution_count": 168,
     "metadata": {},
     "output_type": "execute_result"
    }
   ],
   "source": [
    "# Word Count --- Input file\n",
    "def wordCount(prathyu):\n",
    "    with open(prathyu,'r') as f:\n",
    "        if f.mode == 'r':\n",
    "            a = f.read()\n",
    "            li = a.split()# Divides the words by using white space\n",
    "    return len(li)\n",
    "wordCount('data.txt')"
   ]
  },
  {
   "cell_type": "code",
   "execution_count": null,
   "metadata": {},
   "outputs": [],
   "source": [
    "#specific wordcount from the file\n",
    "#Example #1:\n",
    "#Input -- This\n",
    "#Output -- 10\n",
    "\n",
    "#Example #2\n",
    "#Input --Gitam\n",
    "#output --1\n",
    "\n",
    "def wordCount(prathyu,word):\n",
    "    with open(prathyu,'r') as f:\n",
    "        if f.mode == 'r':\n",
    "            a = f.read()\n",
    "            li = a.split()\n",
    "    return li.count(word)\n",
    "wordCount('data.txt','This')\n",
    "    "
   ]
  },
  {
   "cell_type": "code",
   "execution_count": null,
   "metadata": {},
   "outputs": [],
   "source": [
    "#Function to find the character count from the input file\n",
    "\n",
    "def charCount(prathyu):\n",
    "    with open(prathyu,'r') as f:\n",
    "        if f.mode == 'r':\n",
    "            a = f.read()\n",
    "            li = list(a)\n",
    "    return len(li)\n",
    "charCount('data.txt')"
   ]
  },
  {
   "cell_type": "code",
   "execution_count": null,
   "metadata": {},
   "outputs": [],
   "source": [
    "s = \"Python Programming\"\n",
    "li = list(s)\n",
    "print(li)"
   ]
  },
  {
   "cell_type": "code",
   "execution_count": 135,
   "metadata": {},
   "outputs": [
    {
     "data": {
      "text/plain": [
       "13"
      ]
     },
     "execution_count": 135,
     "metadata": {},
     "output_type": "execute_result"
    }
   ],
   "source": [
    "# Find the number of lines or rows in the given input stream\n",
    "def findLineCount(prathyu):\n",
    "    with open(prathyu,'r') as f:\n",
    "        if f.mode == 'r':\n",
    "            a = f.read()\n",
    "            li = a.split('\\n')\n",
    "    return len(li)\n",
    "findLineCount('data.txt')"
   ]
  },
  {
   "cell_type": "code",
   "execution_count": 152,
   "metadata": {},
   "outputs": [
    {
     "data": {
      "text/plain": [
       "'Upper Case : 8 Lower Case : 43 digit : 0'"
      ]
     },
     "execution_count": 152,
     "metadata": {},
     "output_type": "execute_result"
    }
   ],
   "source": [
    "#Function to find the Upper and lower  case characters from the input stream\n",
    "def caseCount(prathyu):\n",
    "    cntUpper = 0\n",
    "    cntLower =0\n",
    "    cntDigit = 0\n",
    "    with open(prathyu,'r') as f:\n",
    "        if f.mode == 'r':\n",
    "            a = f.read()\n",
    "            li = list(a)\n",
    "        for i in range(len(li)):\n",
    "            if ord(li[i]) >= 65 and ord(li[i]) <= 90:\n",
    "                cntUpper += 1\n",
    "            elif ord(li[i]) >= 97 and ord(li[i]) <= 122:\n",
    "                cntLower += 1\n",
    "            elif ord(li[i]) >= 48 and ord(li[i]) <= 57:\n",
    "                cntDigit += 1\n",
    "        output = 'Upper Case : {0} Lower Case : {1} digit : {2}'.format(cntUpper,cntLower,cntDigit)\n",
    "        return output\n",
    "caseCount('data.txt')"
   ]
  },
  {
   "cell_type": "markdown",
   "metadata": {},
   "source": []
  },
  {
   "cell_type": "markdown",
   "metadata": {},
   "source": []
  },
  {
   "cell_type": "code",
   "execution_count": null,
   "metadata": {},
   "outputs": [],
   "source": []
  },
  {
   "cell_type": "code",
   "execution_count": null,
   "metadata": {},
   "outputs": [],
   "source": []
  },
  {
   "cell_type": "code",
   "execution_count": 5,
   "metadata": {},
   "outputs": [],
   "source": []
  },
  {
   "cell_type": "code",
   "execution_count": null,
   "metadata": {},
   "outputs": [],
   "source": []
  },
  {
   "cell_type": "code",
   "execution_count": null,
   "metadata": {},
   "outputs": [],
   "source": []
  },
  {
   "cell_type": "code",
   "execution_count": null,
   "metadata": {},
   "outputs": [],
   "source": []
  }
 ],
 "metadata": {
  "kernelspec": {
   "display_name": "Python 3",
   "language": "python",
   "name": "python3"
  },
  "language_info": {
   "codemirror_mode": {
    "name": "ipython",
    "version": 3
   },
   "file_extension": ".py",
   "mimetype": "text/x-python",
   "name": "python",
   "nbconvert_exporter": "python",
   "pygments_lexer": "ipython3",
   "version": "3.7.3"
  }
 },
 "nbformat": 4,
 "nbformat_minor": 2
}
